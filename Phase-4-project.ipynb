{
 "cells": [
  {
   "cell_type": "markdown",
   "id": "631e9e28",
   "metadata": {},
   "source": [
    "# MOVIE RECOMMENDATION SYSTEM."
   ]
  },
  {
   "cell_type": "markdown",
   "id": "e11c70cb",
   "metadata": {},
   "source": [
    "## 1. Business Understanding."
   ]
  },
  {
   "cell_type": "markdown",
   "id": "e6857ae4",
   "metadata": {},
   "source": [
    "### a. SPECIFYING THE DATA ANALYTICS QUESTION."
   ]
  },
  {
   "cell_type": "markdown",
   "id": "53c21a5a",
   "metadata": {},
   "source": [
    "Movies are a great way to pass time especially after a long day of work and all you can think about is something to help you relax. What if there was a recommender system that recommends movies based on ratings and how users. The recommender system makes recommendations based on previous movies you have watched and how you rated them so that you can be able to continue enjoying movies of your choice without much effort of looking."
   ]
  },
  {
   "cell_type": "markdown",
   "id": "42de15bb",
   "metadata": {},
   "source": [
    "### b. PROBLEM STATEMENT."
   ]
  },
  {
   "cell_type": "markdown",
   "id": "995b3686",
   "metadata": {},
   "source": [
    "In today's digital age, the entertainment industry is experiencing rapid growth, with an ever-expanding library of movies and TV shows available to audiences. However, this abundance of content often leads to decision fatigue among viewers who are overwhelmed by the choices. To address this issue and enhance the user experience, our objective is to make a movie recommendation system that will address this issue and reduce dissatisfaction when looking for a movie."
   ]
  },
  {
   "cell_type": "markdown",
   "id": "34fc3a13",
   "metadata": {},
   "source": [
    "### c. DEFINING THE METRIC OF SUCCESS."
   ]
  },
  {
   "cell_type": "markdown",
   "id": "dad3c901",
   "metadata": {},
   "source": [
    "The recommendation system should be able to incorporate collaborative filtering. The recommendation system should have a low root mean squared error(rmse) in order to reduce the chances of recommending the wrong movies in order to improve customer satisfaction. The recommendation system should be able to pick up ratings and correctly predict what the user would rate a movie based on their preferences and the provide insightful recommenadtions to the user and to other users who share common interests with the user in question."
   ]
  },
  {
   "cell_type": "markdown",
   "id": "244f9237",
   "metadata": {},
   "source": [
    "### d. MAIN OBJECTIVE."
   ]
  },
  {
   "cell_type": "markdown",
   "id": "2138c475",
   "metadata": {},
   "source": [
    "The primary goal of this project is to develop a movie recommendation system that can provide personalized movie suggestions to users based on their preferences, viewing history, and behavior."
   ]
  },
  {
   "cell_type": "markdown",
   "id": "a76b9993",
   "metadata": {},
   "source": [
    "### e. SPECIFIC OBJECTIVES"
   ]
  },
  {
   "cell_type": "markdown",
   "id": "655eb8f2",
   "metadata": {},
   "source": [
    ". To build a recommender system using user-user similarity.\n",
    "\n",
    ". To find the optimal parameters to use for singular value decomposition.\n",
    "\n",
    ". To use evaluation metrics such as the Root Mean Squared Error (RMSE) and the Mean Absolute Error (MAE) to check the performance of the model"
   ]
  },
  {
   "cell_type": "markdown",
   "id": "4a59ce96",
   "metadata": {},
   "source": [
    "### f. EXPERIMENTAL DESIGN."
   ]
  },
  {
   "cell_type": "markdown",
   "id": "2c2a8673",
   "metadata": {},
   "source": [
    ". Data Collection\n",
    "\n",
    ". Read and check the data\n",
    "\n",
    ". Preprocessing the data\n",
    "\n",
    ". Building the recommendation system.\n",
    "\n",
    ". Conclusions and Recommendations"
   ]
  },
  {
   "cell_type": "markdown",
   "id": "8e036151",
   "metadata": {},
   "source": [
    "### g. DATA UNDERSTANDING.\n"
   ]
  },
  {
   "cell_type": "markdown",
   "id": "bcde7ece",
   "metadata": {},
   "source": [
    "The dataset used in this project is from:\n",
    ". Movielens datset from the GroupLens research lab at the University of Minnesota. The dataset was specifically the \"small\" dataset containing 100,000 user ratings.\n",
    "\n",
    ". It contains 100836 ratings and 3683 tag applications across 9742 movies. These data were created by 610 users between March 29, 1996 and September 24, 2018. This dataset was generated on September 26, 2018.\n",
    "\n",
    ". Ratings are made on a 5-star scale, with half-star increments (0.5 stars - 5.0 stars). Only movies with at least one rating or tag are included in the dataset.\n",
    "\n",
    ". Tags are user-generated metadata about movies. Each tag is typically a single word or short phrase. The meaning, value, and purpose of a particular tag is determined by each user."
   ]
  },
  {
   "cell_type": "markdown",
   "id": "75ba502a",
   "metadata": {},
   "source": [
    "## 2. IMPORTING LIBRARIES."
   ]
  },
  {
   "cell_type": "code",
   "execution_count": 1,
   "id": "725b8145",
   "metadata": {},
   "outputs": [],
   "source": [
    "# importing relevant libraries\n",
    "import pandas as pd\n",
    "import numpy as np\n",
    "import matplotlib.pyplot as plt\n",
    "%matplotlib inline\n",
    "import seaborn as sns\n",
    "plt.style.use('seaborn-v0_8-whitegrid')\n",
    "import warnings\n",
    "warnings.filterwarnings('ignore')\n",
    "from surprise import Dataset, Reader\n",
    "from surprise.model_selection import cross_validate\n",
    "from surprise.prediction_algorithms import SVD\n",
    "from surprise.prediction_algorithms import KNNWithMeans, KNNBasic, KNNBaseline\n",
    "from surprise.model_selection import GridSearchCV"
   ]
  },
  {
   "cell_type": "markdown",
   "id": "4db7afef",
   "metadata": {},
   "source": [
    "## 3. READING THE DATA."
   ]
  },
  {
   "cell_type": "code",
   "execution_count": 2,
   "id": "0dd24db9",
   "metadata": {},
   "outputs": [],
   "source": [
    "# Reading the movies data into a dataframe\n",
    "movies_df = pd.read_csv('movies.csv')"
   ]
  },
  {
   "cell_type": "code",
   "execution_count": 3,
   "id": "e39a0a14",
   "metadata": {},
   "outputs": [
    {
     "data": {
      "text/html": [
       "<div>\n",
       "<style scoped>\n",
       "    .dataframe tbody tr th:only-of-type {\n",
       "        vertical-align: middle;\n",
       "    }\n",
       "\n",
       "    .dataframe tbody tr th {\n",
       "        vertical-align: top;\n",
       "    }\n",
       "\n",
       "    .dataframe thead th {\n",
       "        text-align: right;\n",
       "    }\n",
       "</style>\n",
       "<table border=\"1\" class=\"dataframe\">\n",
       "  <thead>\n",
       "    <tr style=\"text-align: right;\">\n",
       "      <th></th>\n",
       "      <th>movieId</th>\n",
       "      <th>title</th>\n",
       "      <th>genres</th>\n",
       "    </tr>\n",
       "  </thead>\n",
       "  <tbody>\n",
       "    <tr>\n",
       "      <th>0</th>\n",
       "      <td>1</td>\n",
       "      <td>Toy Story (1995)</td>\n",
       "      <td>Adventure|Animation|Children|Comedy|Fantasy</td>\n",
       "    </tr>\n",
       "    <tr>\n",
       "      <th>1</th>\n",
       "      <td>2</td>\n",
       "      <td>Jumanji (1995)</td>\n",
       "      <td>Adventure|Children|Fantasy</td>\n",
       "    </tr>\n",
       "    <tr>\n",
       "      <th>2</th>\n",
       "      <td>3</td>\n",
       "      <td>Grumpier Old Men (1995)</td>\n",
       "      <td>Comedy|Romance</td>\n",
       "    </tr>\n",
       "    <tr>\n",
       "      <th>3</th>\n",
       "      <td>4</td>\n",
       "      <td>Waiting to Exhale (1995)</td>\n",
       "      <td>Comedy|Drama|Romance</td>\n",
       "    </tr>\n",
       "    <tr>\n",
       "      <th>4</th>\n",
       "      <td>5</td>\n",
       "      <td>Father of the Bride Part II (1995)</td>\n",
       "      <td>Comedy</td>\n",
       "    </tr>\n",
       "  </tbody>\n",
       "</table>\n",
       "</div>"
      ],
      "text/plain": [
       "   movieId                               title  \\\n",
       "0        1                    Toy Story (1995)   \n",
       "1        2                      Jumanji (1995)   \n",
       "2        3             Grumpier Old Men (1995)   \n",
       "3        4            Waiting to Exhale (1995)   \n",
       "4        5  Father of the Bride Part II (1995)   \n",
       "\n",
       "                                        genres  \n",
       "0  Adventure|Animation|Children|Comedy|Fantasy  \n",
       "1                   Adventure|Children|Fantasy  \n",
       "2                               Comedy|Romance  \n",
       "3                         Comedy|Drama|Romance  \n",
       "4                                       Comedy  "
      ]
     },
     "execution_count": 3,
     "metadata": {},
     "output_type": "execute_result"
    }
   ],
   "source": [
    "# Previewing the data\n",
    "movies_df.head(5)"
   ]
  },
  {
   "cell_type": "code",
   "execution_count": 4,
   "id": "d88a20c3",
   "metadata": {},
   "outputs": [
    {
     "data": {
      "text/plain": [
       "movieId    0\n",
       "title      0\n",
       "genres     0\n",
       "dtype: int64"
      ]
     },
     "execution_count": 4,
     "metadata": {},
     "output_type": "execute_result"
    }
   ],
   "source": [
    "# checking for null values.\n",
    "movies_df.isna().sum()"
   ]
  },
  {
   "cell_type": "markdown",
   "id": "88eb4a56",
   "metadata": {},
   "source": [
    "The movie dataset has the following columns:\n",
    "\n",
    ". movieId - This is the unique identifier of a specific movie and coincides with those in the ratings dataframe.\n",
    "\n",
    ". genres - This just shows what genre a movie belongs to.\n",
    "\n",
    ". Title - This will be helpful when making recommendations to a user for the top ten movies.\n",
    "\n",
    "There are no missing values that need to be filled out for thus we skip that part during cleaning."
   ]
  },
  {
   "cell_type": "code",
   "execution_count": 5,
   "id": "e62f41cb",
   "metadata": {},
   "outputs": [],
   "source": [
    "# reading the ratings data into a dataframe\n",
    "ratings_df = pd.read_csv('ratings.csv')"
   ]
  },
  {
   "cell_type": "code",
   "execution_count": 6,
   "id": "66bf6075",
   "metadata": {},
   "outputs": [
    {
     "data": {
      "text/html": [
       "<div>\n",
       "<style scoped>\n",
       "    .dataframe tbody tr th:only-of-type {\n",
       "        vertical-align: middle;\n",
       "    }\n",
       "\n",
       "    .dataframe tbody tr th {\n",
       "        vertical-align: top;\n",
       "    }\n",
       "\n",
       "    .dataframe thead th {\n",
       "        text-align: right;\n",
       "    }\n",
       "</style>\n",
       "<table border=\"1\" class=\"dataframe\">\n",
       "  <thead>\n",
       "    <tr style=\"text-align: right;\">\n",
       "      <th></th>\n",
       "      <th>userId</th>\n",
       "      <th>movieId</th>\n",
       "      <th>rating</th>\n",
       "      <th>timestamp</th>\n",
       "    </tr>\n",
       "  </thead>\n",
       "  <tbody>\n",
       "    <tr>\n",
       "      <th>0</th>\n",
       "      <td>1</td>\n",
       "      <td>1</td>\n",
       "      <td>4.0</td>\n",
       "      <td>964982703</td>\n",
       "    </tr>\n",
       "    <tr>\n",
       "      <th>1</th>\n",
       "      <td>1</td>\n",
       "      <td>3</td>\n",
       "      <td>4.0</td>\n",
       "      <td>964981247</td>\n",
       "    </tr>\n",
       "    <tr>\n",
       "      <th>2</th>\n",
       "      <td>1</td>\n",
       "      <td>6</td>\n",
       "      <td>4.0</td>\n",
       "      <td>964982224</td>\n",
       "    </tr>\n",
       "    <tr>\n",
       "      <th>3</th>\n",
       "      <td>1</td>\n",
       "      <td>47</td>\n",
       "      <td>5.0</td>\n",
       "      <td>964983815</td>\n",
       "    </tr>\n",
       "    <tr>\n",
       "      <th>4</th>\n",
       "      <td>1</td>\n",
       "      <td>50</td>\n",
       "      <td>5.0</td>\n",
       "      <td>964982931</td>\n",
       "    </tr>\n",
       "  </tbody>\n",
       "</table>\n",
       "</div>"
      ],
      "text/plain": [
       "   userId  movieId  rating  timestamp\n",
       "0       1        1     4.0  964982703\n",
       "1       1        3     4.0  964981247\n",
       "2       1        6     4.0  964982224\n",
       "3       1       47     5.0  964983815\n",
       "4       1       50     5.0  964982931"
      ]
     },
     "execution_count": 6,
     "metadata": {},
     "output_type": "execute_result"
    }
   ],
   "source": [
    "# Previewing the layout of the data.\n",
    "ratings_df.head(5)"
   ]
  },
  {
   "cell_type": "code",
   "execution_count": 7,
   "id": "18aa6981",
   "metadata": {},
   "outputs": [],
   "source": [
    "# removing unnecessary columns from the data.\n",
    "ratings_df.drop('timestamp', axis = 1, inplace = True)"
   ]
  },
  {
   "cell_type": "code",
   "execution_count": 8,
   "id": "341a03ba",
   "metadata": {},
   "outputs": [
    {
     "data": {
      "text/html": [
       "<div>\n",
       "<style scoped>\n",
       "    .dataframe tbody tr th:only-of-type {\n",
       "        vertical-align: middle;\n",
       "    }\n",
       "\n",
       "    .dataframe tbody tr th {\n",
       "        vertical-align: top;\n",
       "    }\n",
       "\n",
       "    .dataframe thead th {\n",
       "        text-align: right;\n",
       "    }\n",
       "</style>\n",
       "<table border=\"1\" class=\"dataframe\">\n",
       "  <thead>\n",
       "    <tr style=\"text-align: right;\">\n",
       "      <th></th>\n",
       "      <th>userId</th>\n",
       "      <th>movieId</th>\n",
       "      <th>rating</th>\n",
       "    </tr>\n",
       "  </thead>\n",
       "  <tbody>\n",
       "    <tr>\n",
       "      <th>0</th>\n",
       "      <td>1</td>\n",
       "      <td>1</td>\n",
       "      <td>4.0</td>\n",
       "    </tr>\n",
       "    <tr>\n",
       "      <th>1</th>\n",
       "      <td>1</td>\n",
       "      <td>3</td>\n",
       "      <td>4.0</td>\n",
       "    </tr>\n",
       "    <tr>\n",
       "      <th>2</th>\n",
       "      <td>1</td>\n",
       "      <td>6</td>\n",
       "      <td>4.0</td>\n",
       "    </tr>\n",
       "    <tr>\n",
       "      <th>3</th>\n",
       "      <td>1</td>\n",
       "      <td>47</td>\n",
       "      <td>5.0</td>\n",
       "    </tr>\n",
       "    <tr>\n",
       "      <th>4</th>\n",
       "      <td>1</td>\n",
       "      <td>50</td>\n",
       "      <td>5.0</td>\n",
       "    </tr>\n",
       "  </tbody>\n",
       "</table>\n",
       "</div>"
      ],
      "text/plain": [
       "   userId  movieId  rating\n",
       "0       1        1     4.0\n",
       "1       1        3     4.0\n",
       "2       1        6     4.0\n",
       "3       1       47     5.0\n",
       "4       1       50     5.0"
      ]
     },
     "execution_count": 8,
     "metadata": {},
     "output_type": "execute_result"
    }
   ],
   "source": [
    "# checking to see if the column has been dropped.\n",
    "ratings_df.head(5)"
   ]
  },
  {
   "cell_type": "code",
   "execution_count": 9,
   "id": "a796e3bc",
   "metadata": {},
   "outputs": [
    {
     "data": {
      "text/plain": [
       "userId     0\n",
       "movieId    0\n",
       "rating     0\n",
       "dtype: int64"
      ]
     },
     "execution_count": 9,
     "metadata": {},
     "output_type": "execute_result"
    }
   ],
   "source": [
    "# checking for null values.\n",
    "ratings_df.isna().sum()"
   ]
  },
  {
   "cell_type": "markdown",
   "id": "aaf7999a",
   "metadata": {},
   "source": [
    "The ratings_df has the following columns:\n",
    ". UserId - This is the unique identifier of a user that is used and ensures that their private information is not used or leaked.\n",
    "\n",
    ". MovieId - This coincides with the movieId in the movies dataframe and uniquely identifies a movie.\n",
    "\n",
    ". rating -  Ratings given by each user to all the movies using this we are going to predict the top 10 similar movies\n",
    "\n",
    "There are no missing values in the ratings dataframe as well thus we are going to skip that step during cleaning."
   ]
  },
  {
   "cell_type": "markdown",
   "id": "639d9a3e",
   "metadata": {},
   "source": [
    "## 4. PREPROCESSING THE DATA."
   ]
  },
  {
   "cell_type": "markdown",
   "id": "adf87916",
   "metadata": {},
   "source": [
    "Transform the dataset to a format compatible with `surprise`. For this `Reader` and `Dataset` classes are essential. The `Dataset` method is specifically used for loading dataframes."
   ]
  },
  {
   "cell_type": "code",
   "execution_count": 10,
   "id": "d9fa187b",
   "metadata": {
    "scrolled": false
   },
   "outputs": [
    {
     "name": "stdout",
     "output_type": "stream",
     "text": [
      "Requirement already satisfied: scikit-surprise in c:\\users\\muchi\\anaconda3\\envs\\learn-env\\lib\\site-packages (1.1.3)\n",
      "Requirement already satisfied: scipy>=1.3.2 in c:\\users\\muchi\\anaconda3\\envs\\learn-env\\lib\\site-packages (from scikit-surprise) (1.10.1)\n",
      "Requirement already satisfied: numpy>=1.17.3 in c:\\users\\muchi\\anaconda3\\envs\\learn-env\\lib\\site-packages (from scikit-surprise) (1.24.3)\n",
      "Requirement already satisfied: joblib>=1.0.0 in c:\\users\\muchi\\anaconda3\\envs\\learn-env\\lib\\site-packages (from scikit-surprise) (1.3.1)\n",
      "Note: you may need to restart the kernel to use updated packages.\n"
     ]
    }
   ],
   "source": [
    "pip install scikit-surprise"
   ]
  },
  {
   "cell_type": "code",
   "execution_count": 11,
   "id": "5dad3422",
   "metadata": {},
   "outputs": [
    {
     "data": {
      "text/plain": [
       "4.0    26818\n",
       "3.0    20047\n",
       "5.0    13211\n",
       "3.5    13136\n",
       "4.5     8551\n",
       "2.0     7551\n",
       "2.5     5550\n",
       "1.0     2811\n",
       "1.5     1791\n",
       "0.5     1370\n",
       "Name: rating, dtype: int64"
      ]
     },
     "execution_count": 11,
     "metadata": {},
     "output_type": "execute_result"
    }
   ],
   "source": [
    "ratings_df['rating'].value_counts()"
   ]
  },
  {
   "cell_type": "markdown",
   "id": "b7d835dd",
   "metadata": {},
   "source": [
    "The ratings range from 0-5 with 0.5 being the lowest while 5 being the highest, however I adjust the scale for consistency so that the ratings scale from (1-5) for consistency."
   ]
  },
  {
   "cell_type": "code",
   "execution_count": 12,
   "id": "adb03ba6",
   "metadata": {},
   "outputs": [],
   "source": [
    "ratings_df.loc[ratings_df['rating']<=1.0, 'rating']= 1.0"
   ]
  },
  {
   "cell_type": "code",
   "execution_count": 13,
   "id": "e7de79b7",
   "metadata": {},
   "outputs": [
    {
     "data": {
      "text/plain": [
       "4.0    26818\n",
       "3.0    20047\n",
       "5.0    13211\n",
       "3.5    13136\n",
       "4.5     8551\n",
       "2.0     7551\n",
       "2.5     5550\n",
       "1.0     4181\n",
       "1.5     1791\n",
       "Name: rating, dtype: int64"
      ]
     },
     "execution_count": 13,
     "metadata": {},
     "output_type": "execute_result"
    }
   ],
   "source": [
    "# checking to see whether the ratings have been adjusted to read from 1-5.\n",
    "ratings_df['rating'].value_counts()"
   ]
  },
  {
   "cell_type": "code",
   "execution_count": 14,
   "id": "1543e4df",
   "metadata": {},
   "outputs": [],
   "source": [
    "# read in values as Surprise dataset \n",
    "# Create a Reader object to specify the rating scale\n",
    "reader = Reader(rating_scale=(1, 5))  # Adjust the rating scale if needed\n",
    "\n",
    "# Load data from the DataFrame into the Surprise Dataset\n",
    "data = Dataset.load_from_df(ratings_df[['userId', 'movieId', 'rating']], reader)"
   ]
  },
  {
   "cell_type": "markdown",
   "id": "2ea53876",
   "metadata": {},
   "source": [
    "Next, we check how many items are in our dataset, when using neighbourhood methods, this helps determine whether to use item-item similarity or user-user similarity"
   ]
  },
  {
   "cell_type": "code",
   "execution_count": 15,
   "id": "51030ce9",
   "metadata": {},
   "outputs": [
    {
     "name": "stdout",
     "output_type": "stream",
     "text": [
      "Number of users:  610\n",
      "Number of items:  9724\n"
     ]
    }
   ],
   "source": [
    "# build training set for our recommendation system.\n",
    "dataset = data.build_full_trainset()\n",
    "print('Number of users: ', dataset.n_users)\n",
    "\n",
    "print('Number of items: ', dataset.n_items)"
   ]
  },
  {
   "cell_type": "markdown",
   "id": "e52349b8",
   "metadata": {},
   "source": [
    "We have more items tha users, it would only make sense to use user-user similarity rather than the item-item similarity when inputing specifications in the similarity metrics we use."
   ]
  },
  {
   "cell_type": "markdown",
   "id": "e6a8f148",
   "metadata": {},
   "source": [
    "## 5. BUILDING THE RECOMMENDATION SYSTEM."
   ]
  },
  {
   "cell_type": "markdown",
   "id": "02ec2132",
   "metadata": {},
   "source": [
    "### 5.1 HYPERPARAMETER TUNING."
   ]
  },
  {
   "cell_type": "code",
   "execution_count": 16,
   "id": "9e7716a1",
   "metadata": {},
   "outputs": [
    {
     "name": "stderr",
     "output_type": "stream",
     "text": [
      "[Parallel(n_jobs=-1)]: Using backend LokyBackend with 4 concurrent workers.\n",
      "[Parallel(n_jobs=-1)]: Done  10 tasks      | elapsed:    4.4s\n",
      "[Parallel(n_jobs=-1)]: Done  64 tasks      | elapsed:   21.0s\n",
      "[Parallel(n_jobs=-1)]: Done  80 out of  80 | elapsed:   27.4s finished\n"
     ]
    }
   ],
   "source": [
    "## Perform a gridsearch with SVD\n",
    "param_grid = {'n_factors':[20, 100],'n_epochs': [5, 10], 'lr_all': [0.002, 0.005],\n",
    "               'reg_all': [0.4, 0.6]}\n",
    "gs_model = GridSearchCV(SVD,param_grid=param_grid,n_jobs = -1,joblib_verbose=5)\n",
    "gs_model.fit(data)"
   ]
  },
  {
   "cell_type": "markdown",
   "id": "f721c9ee",
   "metadata": {},
   "source": [
    "To escape the process of trying out different parameters I implemented grid search to account for some different configurations of parameters within the SVD pipeline. The n_jobs is parameter set to -1, which ensures that all of the cores on your computer will be used to process fitting and evaluating all of these models. It is important to take note of the different values to help keep track of what is occurring."
   ]
  },
  {
   "cell_type": "code",
   "execution_count": 17,
   "id": "e7072e5d",
   "metadata": {},
   "outputs": [
    {
     "name": "stdout",
     "output_type": "stream",
     "text": [
      "{'rmse': 0.8730335906545778, 'mae': 0.681711657729789}\n",
      "{'rmse': {'n_factors': 20, 'n_epochs': 10, 'lr_all': 0.005, 'reg_all': 0.4}, 'mae': {'n_factors': 20, 'n_epochs': 10, 'lr_all': 0.005, 'reg_all': 0.4}}\n"
     ]
    }
   ],
   "source": [
    "# print out optimal parameters for SVD after GridSearch\n",
    "print(gs_model.best_score)\n",
    "print(gs_model.best_params)"
   ]
  },
  {
   "cell_type": "code",
   "execution_count": 26,
   "id": "80db14bb",
   "metadata": {},
   "outputs": [],
   "source": [
    "# cross validating with KNNBasic\n",
    "sim_pearson = {\"name\": \"pearson\", \"user_based\": True}\n",
    "basic_pearson = KNNBasic(sim_options=sim_pearson)\n",
    "cv_knn_basic = cross_validate(basic_pearson, data, n_jobs=-1)"
   ]
  },
  {
   "cell_type": "code",
   "execution_count": 27,
   "id": "2cb13b33",
   "metadata": {},
   "outputs": [],
   "source": [
    "# cross validating with KNNBasic\n",
    "sim_pearson = {\"name\": \"pearson\", \"user_based\": True}\n",
    "basic_pearson = KNNBasic(sim_options=sim_pearson)\n",
    "cv_knn_basic = cross_validate(basic_pearson, data, n_jobs=-1)"
   ]
  },
  {
   "cell_type": "code",
   "execution_count": 28,
   "id": "774b32e1",
   "metadata": {},
   "outputs": [
    {
     "name": "stdout",
     "output_type": "stream",
     "text": [
      "('test_rmse', array([0.95384172, 0.95903387, 0.9561358 , 0.94880767, 0.95323077]))\n",
      "('test_mae', array([0.74311372, 0.74417847, 0.74425739, 0.74021619, 0.74200914]))\n",
      "('fit_time', (1.112349271774292, 1.1263537406921387, 1.1643292903900146, 1.150336742401123, 0.6968085765838623))\n",
      "('test_time', (2.7234373092651367, 2.707447052001953, 2.677464246749878, 2.643486499786377, 1.182347297668457))\n",
      "-----------------------\n",
      "0.9542099669074962\n"
     ]
    }
   ],
   "source": [
    "# print out the average RMSE score for the test set\n",
    "for i in cv_knn_basic.items():\n",
    "    print(i)\n",
    "print('-----------------------')\n",
    "print(np.mean(cv_knn_basic['test_rmse']))"
   ]
  },
  {
   "cell_type": "code",
   "execution_count": 29,
   "id": "0c1d9ab1",
   "metadata": {},
   "outputs": [],
   "source": [
    "sim_pearson = {\"name\": \"pearson\", \"user_based\": True}\n",
    "baseline_pearson = KNNBaseline(sim_options=sim_pearson)\n",
    "cv_knn_baseline = cross_validate(baseline_pearson, data, n_jobs=-1)"
   ]
  },
  {
   "cell_type": "code",
   "execution_count": 30,
   "id": "bf4f813b",
   "metadata": {},
   "outputs": [
    {
     "name": "stdout",
     "output_type": "stream",
     "text": [
      "('test_rmse', array([0.85229705, 0.86026375, 0.8583329 , 0.86542014, 0.86044287]))\n",
      "('test_mae', array([0.65645409, 0.66109748, 0.6580182 , 0.66537552, 0.66473416]))\n",
      "('fit_time', (1.5401115417480469, 1.5860912799835205, 1.5461084842681885, 1.5091335773468018, 0.8874878883361816))\n",
      "('test_time', (3.2391419410705566, 3.401050567626953, 3.314100980758667, 3.330091953277588, 1.72800874710083))\n",
      "-----------------------\n",
      "0.8593513424457712\n"
     ]
    }
   ],
   "source": [
    "# print out the average RMSE score for the test set\n",
    "for i in cv_knn_baseline.items():\n",
    "    print(i)\n",
    "print('-----------------------')\n",
    "print(np.mean(cv_knn_baseline['test_rmse']))"
   ]
  },
  {
   "cell_type": "code",
   "execution_count": 32,
   "id": "90e81b77",
   "metadata": {},
   "outputs": [
    {
     "data": {
      "image/png": "[encoded data removed]",
      "text/plain": [
       "<Figure size 1200x600 with 1 Axes>"
      ]
     },
     "metadata": {},
     "output_type": "display_data"
    }
   ],
   "source": [
    "# Get the results of the grid search\n",
    "results_df = pd.DataFrame.from_dict(gs_model.cv_results)\n",
    "\n",
    "# Extract the parameter values and their corresponding mean test scores\n",
    "param_cols = ['param_n_factors', 'param_n_epochs', 'param_lr_all', 'param_reg_all']\n",
    "mean_test_scores = results_df['mean_test_rmse']\n",
    "\n",
    "# Create a list of parameter combinations as strings\n",
    "param_combinations = [', '.join([f\"{param}: {value}\" for param, value in zip(param_cols, params)]) for params in results_df[param_cols].values]\n",
    "\n",
    "# Create a bar plot to visualize the results\n",
    "plt.figure(figsize=(12, 6))\n",
    "plt.barh(param_combinations, mean_test_scores, color='skyblue')\n",
    "plt.xlabel('Mean Test Score')\n",
    "plt.ylabel('Parameter Combinations')\n",
    "plt.title('Grid Search Results for SVD Parameters')\n",
    "plt.gca().invert_yaxis()  # Invert the y-axis to show the best results at the top\n",
    "plt.tight_layout()\n",
    "\n",
    "# Display the plot\n",
    "plt.show()"
   ]
  },
  {
   "cell_type": "markdown",
   "id": "ae4c19dd",
   "metadata": {},
   "source": [
    "From the above analysis, we can see that the best performing model with the best parameters is the SVD model with the parameters n_factors = 20 and a learning rate of 0.05. The RMSE decreses significantly with cross validating especially with the KNNBaseline because it adds a bias term by way of minimizing the cost function."
   ]
  },
  {
   "cell_type": "markdown",
   "id": "c98f058f",
   "metadata": {},
   "source": [
    "### 5.2. MAKING RECOMMENDATIONS."
   ]
  },
  {
   "cell_type": "markdown",
   "id": "660d4609",
   "metadata": {},
   "source": [
    "### 5.2.1 MAKING PREDICTIONS"
   ]
  },
  {
   "cell_type": "markdown",
   "id": "510830a0",
   "metadata": {},
   "source": [
    "First we will fit our best performing model with the parameters that we evaluated above."
   ]
  },
  {
   "cell_type": "code",
   "execution_count": 33,
   "id": "0bba2db0",
   "metadata": {},
   "outputs": [],
   "source": [
    "# initializing the model.\n",
    "svd = SVD(n_factors = 20, n_epochs = 20, lr_all = 0.05, reg_all = 0.4)"
   ]
  },
  {
   "cell_type": "code",
   "execution_count": 34,
   "id": "bdd8bb0e",
   "metadata": {},
   "outputs": [
    {
     "data": {
      "text/plain": [
       "<surprise.prediction_algorithms.matrix_factorization.SVD at 0x1ec655ce6b0>"
      ]
     },
     "execution_count": 34,
     "metadata": {},
     "output_type": "execute_result"
    }
   ],
   "source": [
    "# fitting the model to the training dataset.\n",
    "svd.fit(dataset)"
   ]
  },
  {
   "cell_type": "code",
   "execution_count": 35,
   "id": "01f30df1",
   "metadata": {},
   "outputs": [
    {
     "data": {
      "text/plain": [
       "Prediction(uid=1, iid=3, r_ui=None, est=3.789945937364609, details={'was_impossible': False})"
      ]
     },
     "execution_count": 35,
     "metadata": {},
     "output_type": "execute_result"
    }
   ],
   "source": [
    "# make predictions for a specific user.\n",
    "svd.predict(1,3)"
   ]
  },
  {
   "cell_type": "markdown",
   "id": "3fff1b87",
   "metadata": {},
   "source": [
    "prediction value is a tuple and each value can be accessed through indexing."
   ]
  },
  {
   "cell_type": "markdown",
   "id": "3c75329d",
   "metadata": {},
   "source": [
    "### 5.2.3. OBTAINING USER RATINGS."
   ]
  },
  {
   "cell_type": "markdown",
   "id": "598ac7fd",
   "metadata": {},
   "source": [
    "Next, building a function that recommends movies to a user and asks the user to rate it if he/she has watched it or skip it if otherwise. The function should take in the following arguments, the movies dataframe that contains information about the movie, the rat which is an interger value for the rating as well as the genre for the option of picking a movie from a specific genre."
   ]
  },
  {
   "cell_type": "code",
   "execution_count": 36,
   "id": "64b39dcc",
   "metadata": {},
   "outputs": [
    {
     "data": {
      "text/plain": [
       "610"
      ]
     },
     "execution_count": 36,
     "metadata": {},
     "output_type": "execute_result"
    }
   ],
   "source": [
    "ratings_df['userId'].max()"
   ]
  },
  {
   "cell_type": "code",
   "execution_count": 37,
   "id": "dc082a6f",
   "metadata": {},
   "outputs": [],
   "source": [
    "def rater(movie_df, rat, genre = None):\n",
    "    rating_list = []\n",
    "\n",
    "    # Define a user ID for rating submissions\n",
    "    user_id = 700\n",
    "\n",
    "    # Filter movies by genre if specified\n",
    "    if genre:\n",
    "        movie_df = movie_df[movie_df['genres'].str.contains(genre)]\n",
    "\n",
    "    # Randomly select and present movies for rating\n",
    "    for _ in range(rat):\n",
    "        # Select a random movie\n",
    "        random_movie = movie_df.sample(1)\n",
    "\n",
    "        # Get the movie's title and ID\n",
    "        movie_title = random_movie['title'].values[0]\n",
    "        movie_id = random_movie['movieId'].values[0]\n",
    "\n",
    "        # Present the movie to the user\n",
    "        print(f\"Movie: {movie_title}\")\n",
    "        user_rating = input(\"Rate this movie on a scale from 1 to 5 (or type 'skip' to skip): \")\n",
    "\n",
    "        # Check if the user wants to skip rating\n",
    "        if user_rating.lower() == 'skip':\n",
    "            continue\n",
    "\n",
    "        try:\n",
    "            user_rating = float(user_rating)\n",
    "            if user_rating < 1 or user_rating > 5:\n",
    "                print(\"Invalid rating. Please enter a rating between 1 and 5.\")\n",
    "                continue\n",
    "        except ValueError:\n",
    "            print(\"Invalid input. Please enter a number between 1 and 5 or 'skip'.\")\n",
    "            continue\n",
    "\n",
    "        # Increment the user ID for each rating submission\n",
    "        user_id += 1\n",
    "\n",
    "        # Create a dictionary with the user's rating\n",
    "        rating_dict = {'userId': user_id, 'movieId': movie_id, 'rating': user_rating}\n",
    "\n",
    "        # Append the rating to the list\n",
    "        rating_list.append(rating_dict)\n",
    "\n",
    "    return rating_list"
   ]
  },
  {
   "cell_type": "code",
   "execution_count": 38,
   "id": "2c5198cb",
   "metadata": {},
   "outputs": [
    {
     "name": "stdout",
     "output_type": "stream",
     "text": [
      "Movie: Frequently Asked Questions About Time Travel (2009)\n",
      "Rate this movie on a scale from 1 to 5 (or type 'skip' to skip): 1\n",
      "Movie: Bad Asses on the Bayou (2015)\n",
      "Rate this movie on a scale from 1 to 5 (or type 'skip' to skip): 2\n",
      "Movie: Made of Honor (2008)\n",
      "Rate this movie on a scale from 1 to 5 (or type 'skip' to skip): 3\n",
      "Movie: Sarah Silverman: Jesus Is Magic (2005)\n",
      "Rate this movie on a scale from 1 to 5 (or type 'skip' to skip): 4\n"
     ]
    }
   ],
   "source": [
    "user_rating = rater(movies_df, 4, 'Comedy')"
   ]
  },
  {
   "cell_type": "markdown",
   "id": "7f149b4f",
   "metadata": {},
   "source": [
    "Next step is to make predictions for the new user using this new ratings"
   ]
  },
  {
   "cell_type": "code",
   "execution_count": 39,
   "id": "b655e5d5",
   "metadata": {},
   "outputs": [],
   "source": [
    "## add the new ratings to the original ratings DataFrame\n",
    "user_ratings = pd.DataFrame(user_rating)"
   ]
  },
  {
   "cell_type": "code",
   "execution_count": 40,
   "id": "136ebc86",
   "metadata": {},
   "outputs": [],
   "source": [
    "# concat the new dataframe with the older dataframe\n",
    "new_ratings_df = pd.concat([user_ratings, ratings_df], axis = 0)"
   ]
  },
  {
   "cell_type": "code",
   "execution_count": 41,
   "id": "59d22ccf",
   "metadata": {},
   "outputs": [],
   "source": [
    "# read in values as Surprise dataset \n",
    "# Create a Reader object to specify the rating scale\n",
    "reader = Reader(rating_scale=(1, 5))  # Adjust the rating scale if needed\n",
    "\n",
    "# Load data from the DataFrame into the Surprise Dataset\n",
    "new_data = Dataset.load_from_df(new_ratings_df, reader)"
   ]
  },
  {
   "cell_type": "code",
   "execution_count": 42,
   "id": "eb390be3",
   "metadata": {},
   "outputs": [
    {
     "name": "stdout",
     "output_type": "stream",
     "text": [
      "Number of users:  614\n",
      "Number of items:  9724\n"
     ]
    }
   ],
   "source": [
    "# build training set for our recommendation system.\n",
    "new_dataset = new_data.build_full_trainset()\n",
    "print('Number of users: ', new_dataset.n_users)\n",
    "\n",
    "print('Number of items: ', new_dataset.n_items)"
   ]
  },
  {
   "cell_type": "code",
   "execution_count": 43,
   "id": "f2fc5938",
   "metadata": {},
   "outputs": [
    {
     "data": {
      "text/plain": [
       "<surprise.prediction_algorithms.matrix_factorization.SVD at 0x1ec65a922f0>"
      ]
     },
     "execution_count": 43,
     "metadata": {},
     "output_type": "execute_result"
    }
   ],
   "source": [
    "# train a model using the new combined DataFrame\n",
    "# initializing the model.\n",
    "svd_1 = SVD(n_factors = 20, n_epochs = 20, lr_all = 0.05, reg_all = 0.4)\n",
    "\n",
    "# fitting the model to the training dataset.\n",
    "svd_1.fit(new_dataset)"
   ]
  },
  {
   "cell_type": "code",
   "execution_count": 44,
   "id": "bb76db04",
   "metadata": {},
   "outputs": [],
   "source": [
    "# replace user_id with the user you want to make predictions for.\n",
    "# find all the unrated movies\n",
    "user_id = 700\n",
    "new_user_movie_ids = new_ratings_df[new_ratings_df['userId'] == user_id]['movieId']\n",
    "all_movie_ids = new_ratings_df['movieId'].unique()\n",
    "unrated_movie_ids = [movie_id for movie_id in all_movie_ids if movie_id not in new_user_movie_ids]"
   ]
  },
  {
   "cell_type": "code",
   "execution_count": 45,
   "id": "fdab9559",
   "metadata": {},
   "outputs": [],
   "source": [
    "# make predictions for the unrated movies.\n",
    "predictions = []\n",
    "for movie_id in unrated_movie_ids:\n",
    "    prediction = svd_1.predict(user_id, movie_id)\n",
    "    predictions.append((movie_id, prediction.est))"
   ]
  },
  {
   "cell_type": "code",
   "execution_count": 46,
   "id": "b0a29d87",
   "metadata": {},
   "outputs": [],
   "source": [
    "# sort the predictions in descending order.\n",
    "predictions.sort(key=lambda x: x[1], reverse=True)"
   ]
  },
  {
   "cell_type": "code",
   "execution_count": 47,
   "id": "37df7322",
   "metadata": {},
   "outputs": [
    {
     "name": "stdout",
     "output_type": "stream",
     "text": [
      "Movie: Seve (2014)\n",
      "Predicted Rating 4.76628156973784\n",
      "\n",
      "\n",
      "Movie: Match Factory Girl, The (Tulitikkutehtaan tyttö) (1990)\n",
      "Predicted Rating 4.720045779869199\n",
      "\n",
      "\n",
      "Movie: Come and See (Idi i smotri) (1985)\n",
      "Predicted Rating 4.678782240463515\n",
      "\n",
      "\n",
      "Movie: Bossa Nova (2000)\n",
      "Predicted Rating 4.636630399479271\n",
      "\n",
      "\n",
      "Movie: Villain (1971)\n",
      "Predicted Rating 4.590086096268687\n",
      "\n",
      "\n",
      "Movie: Unfaithfully Yours (1948)\n",
      "Predicted Rating 4.5880289947979636\n",
      "\n",
      "\n",
      "Movie: Galaxy of Terror (Quest) (1981)\n",
      "Predicted Rating 4.554087837667336\n",
      "\n",
      "\n",
      "Movie: Little Murders (1971)\n",
      "Predicted Rating 4.541156091018713\n",
      "\n",
      "\n",
      "Movie: Jetée, La (1962)\n",
      "Predicted Rating 4.538242073010832\n",
      "\n",
      "\n",
      "Movie: Lamerica (1994)\n",
      "Predicted Rating 4.533071134072497\n",
      "\n",
      "\n"
     ]
    }
   ],
   "source": [
    "# Make top 10 recommendations.\n",
    "N = 10\n",
    "top_n_recommendations = predictions[:N]\n",
    "\n",
    "#print the top N movie reccomendations.\n",
    "for movie_id, predicted_rating in top_n_recommendations:\n",
    "    movie_title = movies_df[movies_df['movieId'] == movie_id]['title'].values[0]\n",
    "    print('Movie:', movie_title)     \n",
    "    print('Predicted Rating',predicted_rating)\n",
    "    print('\\n')"
   ]
  },
  {
   "cell_type": "markdown",
   "id": "836c1614",
   "metadata": {},
   "source": [
    "Our model successfully used collaborative filtering and gave predictions, ie, recommendations of top 10 movies that the new user based on user-user similarity."
   ]
  },
  {
   "cell_type": "markdown",
   "id": "2dd3f805",
   "metadata": {},
   "source": [
    "## 6. CONCLUSIONS "
   ]
  },
  {
   "cell_type": "markdown",
   "id": "ebf0a0d8",
   "metadata": {},
   "source": [
    ". Effectiveness of collaborative filtering method, In this project I used user-user similarity which proved to be the right approach to take since there were fewer users than items. However there consists other methods like content based filtering are good approaches which can be customized to suit user preferences. \n",
    "\n",
    ". I used the singular value decompositions and generated a grid search in pursuit of the best parameters in order to make right predictions and cross validated using the KNNBasic and the KNNBaseline, the latter yielded better results in reducing the test rmse after making predictions. The optimum parameters were, n_factors = 20, n_epochs = 20, lr_all = 0.05, reg_all = 0.4 respectively.\n",
    "\n",
    ". Implementing user friendly interfaces increases the chance of users rating a movie thus makes collection of metadata easier in order to provide insightful recommendations suited to the liking of the user.\n",
    "\n",
    ". When working with a large dataset it is important to have adequate memory or use a sample of the data that is representative of the whole to make predictions, however using the entire dataset would yield better results since it is training and learning from a huge datset which makes it easier to make accurate predictions, consequently it is important to be cautious not to overfit."
   ]
  },
  {
   "cell_type": "markdown",
   "id": "af0f7468",
   "metadata": {},
   "source": [
    "## 7. RECOMMENDATIONS."
   ]
  },
  {
   "cell_type": "markdown",
   "id": "81325202",
   "metadata": {},
   "source": [
    ". To address the cold start problem, that is, the system finds it difficult to make recommendations for users or items that have fewer interactions with it. Content-based methods and hybrid recommendation systems can address this issue by incorporating item features and metadata. \n",
    "\n",
    ". The performance of recommendation system depends on hyperparameter settings. Careful tuning of hyperparameters, such as the number of neighbors (k) in KNN or the regularization term in matrix factorization, is essential for optimal results. This can be done by using a grid search that takes in a range of values for different parameters and find the best parameters based on the problem at hand.\n",
    "\n",
    ". To determine the recommendation system's performance it is important to use evaluation metrics, common metrics include Root Mean Squared Error (RMSE), Mean Absolute Error (MAE), F1 score among others. These metrics help you to guage how the system is performing and how to improve its prformance if it is low.\n",
    "\n",
    ". The user experience should be a priority. Implement user-friendly interfaces that allow users to provide feedback, rate items, and refine their preferences. User feedback can be used to continuously improve recommendations.\n",
    "\n",
    ". Ensure that the recommendation system has good security, this ensures trust between users and the system is built where they are guaranteed their information is kept safe, private or even anonymized.\n",
    "\n",
    ". Hybrid recommendation systems are a great way to improve the performance of the system. These systems incorporate collaborative filtering, content-based filtering, and other techniques, however hese types require adequate memory in order to be able to run well.\n",
    "\n",
    ". The recommendation system should be flexible in that they can correctly make recommendations even with changes either from the user's preferences or even accomodating new users."
   ]
  }
 ],
 "metadata": {
  "kernelspec": {
   "display_name": "Python (learn-env)",
   "language": "python",
   "name": "learn-env"
  },
  "language_info": {
   "codemirror_mode": {
    "name": "ipython",
    "version": 3
   },
   "file_extension": ".py",
   "mimetype": "text/x-python",
   "name": "python",
   "nbconvert_exporter": "python",
   "pygments_lexer": "ipython3",
   "version": "3.10.11"
  }
 },
 "nbformat": 4,
 "nbformat_minor": 5
}
